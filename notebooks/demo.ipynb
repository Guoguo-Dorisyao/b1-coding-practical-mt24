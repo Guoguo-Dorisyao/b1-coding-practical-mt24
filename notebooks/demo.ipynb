{
 "cells": [
  {
   "cell_type": "code",
   "execution_count": 1,
   "metadata": {},
   "outputs": [
    {
     "ename": "",
     "evalue": "",
     "output_type": "error",
     "traceback": [
      "\u001b[1;31mThe kernel failed to start as the Python Environment 'MyVEnv (Python -1.-1.-1)' is no longer available. Consider selecting another kernel or refreshing the list of Python Environments."
     ]
    }
   ],
   "source": [
    "# Add relevant Jupyter notebook extensions \n",
    "\n",
    "#nonono"
   ]
  },
  {
   "cell_type": "code",
   "execution_count": 3,
   "metadata": {},
   "outputs": [
    {
     "name": "stdout",
     "output_type": "stream",
     "text": [
      "['C:\\\\Users\\\\doris\\\\miniconda3\\\\python312.zip', 'C:\\\\Users\\\\doris\\\\miniconda3\\\\DLLs', 'C:\\\\Users\\\\doris\\\\miniconda3\\\\Lib', 'C:\\\\Users\\\\doris\\\\miniconda3', 'd:\\\\oxford\\\\2024Y3M\\\\B1_1\\\\b1-coding-practical-mt24\\\\myenv', '', 'd:\\\\oxford\\\\2024Y3M\\\\B1_1\\\\b1-coding-practical-mt24\\\\myenv\\\\Lib\\\\site-packages', 'd:\\\\oxford\\\\2024Y3M\\\\B1_1\\\\b1-coding-practical-mt24\\\\myenv\\\\Lib\\\\site-packages\\\\win32', 'd:\\\\oxford\\\\2024Y3M\\\\B1_1\\\\b1-coding-practical-mt24\\\\myenv\\\\Lib\\\\site-packages\\\\win32\\\\lib', 'd:\\\\oxford\\\\2024Y3M\\\\B1_1\\\\b1-coding-practical-mt24\\\\myenv\\\\Lib\\\\site-packages\\\\Pythonwin']\n"
     ]
    }
   ],
   "source": [
    "# You can double-check your Python path like this...\n",
    "import sys  \n",
    "\n",
    "print(sys.path)"
   ]
  },
  {
   "cell_type": "markdown",
   "metadata": {},
   "source": [
    "# Simulate closed-loop\n",
    "After implementing your control functionality, you can simulate the closed-loop with code that looks something like this..."
   ]
  },
  {
   "cell_type": "code",
   "execution_count": null,
   "metadata": {},
   "outputs": [],
   "source": [
    "# Import relevant modules\n",
    "\n",
    "sub = Submarine()\n",
    "# Instantiate your controller (depending on your implementation)\n",
    "closed_loop = ClosedLoop(sub, controller)\n",
    "mission = Mission.from_csv(\"path/to/file\") # You must implement this method in the Mission class\n",
    "\n",
    "trajectory = closed_loop.simulate_with_random_disturbances(mission)\n",
    "trajectory.plot_completed_mission(mission)"
   ]
  }
 ],
 "metadata": {
  "kernelspec": {
   "display_name": "myenv",
   "language": "python",
   "name": "python3"
  },
  "language_info": {
   "codemirror_mode": {
    "name": "ipython",
    "version": 3
   },
   "file_extension": ".py",
   "mimetype": "text/x-python",
   "name": "python",
   "nbconvert_exporter": "python",
   "pygments_lexer": "ipython3",
   "version": "3.12.4"
  }
 },
 "nbformat": 4,
 "nbformat_minor": 2
}
